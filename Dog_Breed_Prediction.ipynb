{
  "cells": [
    {
      "cell_type": "markdown",
      "metadata": {
        "id": "dFONdRncx8Cr"
      },
      "source": [
        "## Dog Breed Prediction"
      ]
    },
    {
      "cell_type": "markdown",
      "metadata": {
        "id": "MQoHS1rtx4xJ"
      },
      "source": [
        "In this project, we will see how to use Keras and TensorFlow to build, train, and test a Convolutional Neural Network capable of identifying the breed of a dog in a supplied image. This is a supervised learning problem, specifically a multiclass classification problem."
      ]
    },
    {
      "cell_type": "markdown",
      "metadata": {
        "id": "t3qAYHiDC_Z-"
      },
      "source": [
        "We will start by connecting to Kaggle using Kaggle API which can be downloaded from your Kaggle account's settings and uploading it here(upload box)."
      ]
    },
    {
      "cell_type": "code",
      "execution_count": 2,
      "metadata": {
        "id": "m34QitafPDd5"
      },
      "outputs": [],
      "source": [
        "# Next, install the Kaggle API client.\n",
        "!pip install -q kaggle"
      ]
    },
    {
      "cell_type": "markdown",
      "metadata": {
        "id": "gtVmkwlDC96u"
      },
      "source": [
        "Next we will install Kaggle API using pip installation."
      ]
    },
    {
      "cell_type": "markdown",
      "metadata": {
        "id": "jieIhBTXEO5B"
      },
      "source": [
        "Setting up Kaggle using Kaggle API."
      ]
    },
    {
      "cell_type": "code",
      "execution_count": 4,
      "metadata": {
        "id": "F7hxbrceg3bC"
      },
      "outputs": [
        {
          "name": "stdout",
          "output_type": "stream",
          "text": [
            "c:\\Users\\Ahriya Evelyn\\Desktop\\Data Camp Project\\DogBreedPrediction\\dog_dataset\n"
          ]
        }
      ],
      "source": [
        "# Creating directory and changing the current working directory\n",
        "!mkdir dog_dataset\n",
        "%cd dog_dataset"
      ]
    },
    {
      "cell_type": "markdown",
      "metadata": {
        "id": "wDLPCNfIEapm"
      },
      "source": [
        "To store the data we will create a new directory and make it as current working directory."
      ]
    },
    {
      "cell_type": "code",
      "execution_count": 5,
      "metadata": {
        "id": "wi9hi_O7vEC-"
      },
      "outputs": [
        {
          "name": "stdout",
          "output_type": "stream",
          "text": [
            "ref                                title                    size  lastUpdated          downloadCount  voteCount  usabilityRating  \n",
            "---------------------------------  ----------------------  -----  -------------------  -------------  ---------  ---------------  \n",
            "catherinehorng/dogbreedidfromcomp  dog-breed-id-from-comp  691MB  2020-06-26 03:09:05           6898         10  0.1764706        \n"
          ]
        }
      ],
      "source": [
        "# Searching for dataset\n",
        "!kaggle datasets list -s dogbreedidfromcomp"
      ]
    },
    {
      "cell_type": "markdown",
      "metadata": {
        "id": "YCyzo_vDEsrA"
      },
      "source": [
        "Searching Kaggle for the required dataset using search option(-s) with title 'dogbreedidfromcomp'. We can also use different search options like searching competitions, notebooks, kernels, datasets, etc."
      ]
    },
    {
      "cell_type": "code",
      "execution_count": 6,
      "metadata": {
        "id": "7U0drGHjfPyY"
      },
      "outputs": [
        {
          "name": "stdout",
          "output_type": "stream",
          "text": [
            "Dataset URL: https://www.kaggle.com/datasets/catherinehorng/dogbreedidfromcomp\n",
            "License(s): unknown\n",
            "Downloading dogbreedidfromcomp.zip to c:\\Users\\Ahriya Evelyn\\Desktop\\Data Camp Project\\DogBreedPrediction\\dog_dataset\n",
            "\n",
            "c:\\Users\\Ahriya Evelyn\\Desktop\\Data Camp Project\\DogBreedPrediction\n"
          ]
        },
        {
          "name": "stderr",
          "output_type": "stream",
          "text": [
            "\n",
            "  0%|          | 0.00/691M [00:00<?, ?B/s]\n",
            "  0%|          | 1.00M/691M [00:01<17:05, 706kB/s]\n",
            "  0%|          | 2.00M/691M [00:01<08:34, 1.40MB/s]\n",
            "  0%|          | 3.00M/691M [00:01<05:22, 2.24MB/s]\n",
            "  1%|          | 5.00M/691M [00:02<02:51, 4.19MB/s]\n",
            "  1%|          | 7.00M/691M [00:02<01:59, 6.00MB/s]\n",
            "  1%|▏         | 9.00M/691M [00:02<01:36, 7.41MB/s]\n",
            "  2%|▏         | 11.0M/691M [00:02<01:22, 8.64MB/s]\n",
            "  2%|▏         | 13.0M/691M [00:02<01:16, 9.24MB/s]\n",
            "  2%|▏         | 15.0M/691M [00:02<01:13, 9.58MB/s]\n",
            "  2%|▏         | 17.0M/691M [00:03<01:10, 10.0MB/s]\n",
            "  3%|▎         | 19.0M/691M [00:03<01:09, 10.2MB/s]\n",
            "  3%|▎         | 21.0M/691M [00:03<01:08, 10.2MB/s]\n",
            "  3%|▎         | 23.0M/691M [00:03<01:08, 10.2MB/s]\n",
            "  4%|▎         | 25.0M/691M [00:03<01:06, 10.5MB/s]\n",
            "  4%|▍         | 27.0M/691M [00:04<01:05, 10.7MB/s]\n",
            "  4%|▍         | 29.0M/691M [00:04<01:05, 10.7MB/s]\n",
            "  4%|▍         | 31.0M/691M [00:04<01:04, 10.7MB/s]\n",
            "  5%|▍         | 33.0M/691M [00:04<01:06, 10.4MB/s]\n",
            "  5%|▌         | 35.0M/691M [00:04<01:05, 10.5MB/s]\n",
            "  5%|▌         | 37.0M/691M [00:05<01:05, 10.4MB/s]\n",
            "  6%|▌         | 39.0M/691M [00:05<00:59, 11.4MB/s]\n",
            "  6%|▌         | 41.0M/691M [00:05<00:51, 13.1MB/s]\n",
            "  6%|▋         | 44.0M/691M [00:05<00:40, 16.6MB/s]\n",
            "  7%|▋         | 46.0M/691M [00:05<00:44, 15.1MB/s]\n",
            "  7%|▋         | 48.0M/691M [00:05<00:48, 14.0MB/s]\n",
            "  7%|▋         | 50.0M/691M [00:05<00:43, 15.4MB/s]\n",
            "  8%|▊         | 52.0M/691M [00:06<00:42, 15.8MB/s]\n",
            "  8%|▊         | 54.0M/691M [00:06<00:46, 14.4MB/s]\n",
            "  8%|▊         | 57.0M/691M [00:06<00:43, 15.1MB/s]\n",
            "  9%|▊         | 60.0M/691M [00:06<00:38, 17.3MB/s]\n",
            "  9%|▉         | 62.0M/691M [00:06<00:39, 16.7MB/s]\n",
            "  9%|▉         | 65.0M/691M [00:06<00:41, 15.7MB/s]\n",
            " 10%|▉         | 67.0M/691M [00:07<00:48, 13.6MB/s]\n",
            " 10%|█         | 70.0M/691M [00:07<00:41, 15.8MB/s]\n",
            " 10%|█         | 72.0M/691M [00:07<00:41, 15.8MB/s]\n",
            " 11%|█         | 74.0M/691M [00:07<00:41, 15.6MB/s]\n",
            " 11%|█         | 77.0M/691M [00:07<00:36, 17.7MB/s]\n",
            " 11%|█▏        | 79.0M/691M [00:07<00:38, 16.6MB/s]\n",
            " 12%|█▏        | 82.0M/691M [00:07<00:36, 17.4MB/s]\n",
            " 12%|█▏        | 85.0M/691M [00:08<00:43, 14.6MB/s]\n",
            " 13%|█▎        | 89.0M/691M [00:08<00:40, 15.7MB/s]\n",
            " 13%|█▎        | 91.0M/691M [00:08<00:39, 15.9MB/s]\n",
            " 14%|█▎        | 94.0M/691M [00:08<00:37, 16.8MB/s]\n",
            " 14%|█▍        | 97.0M/691M [00:08<00:37, 16.5MB/s]\n",
            " 14%|█▍        | 100M/691M [00:09<00:35, 17.4MB/s] \n",
            " 15%|█▍        | 102M/691M [00:09<00:35, 17.2MB/s]\n",
            " 15%|█▌        | 105M/691M [00:09<00:34, 17.8MB/s]\n",
            " 16%|█▌        | 108M/691M [00:09<00:35, 17.2MB/s]\n",
            " 16%|█▌        | 110M/691M [00:09<00:37, 16.1MB/s]\n",
            " 16%|█▋        | 113M/691M [00:09<00:36, 16.4MB/s]\n",
            " 17%|█▋        | 115M/691M [00:10<00:35, 16.8MB/s]\n",
            " 17%|█▋        | 117M/691M [00:10<00:35, 17.1MB/s]\n",
            " 17%|█▋        | 120M/691M [00:10<00:35, 17.0MB/s]\n",
            " 18%|█▊        | 123M/691M [00:10<00:31, 18.9MB/s]\n",
            " 18%|█▊        | 125M/691M [00:10<00:34, 17.4MB/s]\n",
            " 19%|█▊        | 128M/691M [00:10<00:33, 17.5MB/s]\n",
            " 19%|█▉        | 131M/691M [00:10<00:30, 19.3MB/s]\n",
            " 19%|█▉        | 133M/691M [00:11<00:31, 18.9MB/s]\n",
            " 20%|█▉        | 135M/691M [00:11<00:34, 16.7MB/s]\n",
            " 20%|█▉        | 138M/691M [00:11<00:34, 17.0MB/s]\n",
            " 20%|██        | 140M/691M [00:11<00:32, 17.7MB/s]\n",
            " 21%|██        | 142M/691M [00:11<00:34, 16.9MB/s]\n",
            " 21%|██        | 144M/691M [00:11<00:33, 17.2MB/s]\n",
            " 21%|██        | 146M/691M [00:11<00:32, 17.6MB/s]\n",
            " 21%|██▏       | 148M/691M [00:12<00:37, 15.1MB/s]\n",
            " 22%|██▏       | 150M/691M [00:12<00:35, 15.8MB/s]\n",
            " 22%|██▏       | 152M/691M [00:12<00:35, 16.1MB/s]\n",
            " 22%|██▏       | 154M/691M [00:12<00:35, 16.0MB/s]\n",
            " 23%|██▎       | 156M/691M [00:12<00:34, 16.1MB/s]\n",
            " 23%|██▎       | 158M/691M [00:12<00:34, 16.4MB/s]\n",
            " 23%|██▎       | 160M/691M [00:12<00:33, 16.7MB/s]\n",
            " 23%|██▎       | 162M/691M [00:12<00:32, 16.9MB/s]\n",
            " 24%|██▎       | 164M/691M [00:13<00:31, 17.8MB/s]\n",
            " 24%|██▍       | 167M/691M [00:13<00:26, 20.6MB/s]\n",
            " 24%|██▍       | 169M/691M [00:13<00:26, 20.6MB/s]\n",
            " 25%|██▍       | 171M/691M [00:13<00:30, 18.0MB/s]\n",
            " 25%|██▌       | 173M/691M [00:13<00:32, 17.0MB/s]\n",
            " 25%|██▌       | 176M/691M [00:13<00:32, 16.4MB/s]\n",
            " 26%|██▌       | 179M/691M [00:13<00:27, 19.6MB/s]\n",
            " 26%|██▋       | 182M/691M [00:14<00:29, 18.2MB/s]\n",
            " 27%|██▋       | 184M/691M [00:14<00:31, 17.0MB/s]\n",
            " 27%|██▋       | 187M/691M [00:14<00:27, 19.0MB/s]\n",
            " 27%|██▋       | 189M/691M [00:14<00:29, 17.6MB/s]\n",
            " 28%|██▊       | 191M/691M [00:14<00:31, 16.6MB/s]\n",
            " 28%|██▊       | 194M/691M [00:14<00:27, 19.2MB/s]\n",
            " 28%|██▊       | 196M/691M [00:15<00:33, 15.3MB/s]\n",
            " 29%|██▉       | 199M/691M [00:15<00:29, 17.7MB/s]\n",
            " 29%|██▉       | 201M/691M [00:15<00:28, 18.0MB/s]\n",
            " 29%|██▉       | 203M/691M [00:15<00:31, 16.0MB/s]\n",
            " 30%|██▉       | 205M/691M [00:15<00:34, 14.7MB/s]\n",
            " 30%|███       | 208M/691M [00:15<00:33, 15.2MB/s]\n",
            " 31%|███       | 211M/691M [00:15<00:28, 17.8MB/s]\n",
            " 31%|███       | 213M/691M [00:16<00:30, 16.6MB/s]\n",
            " 31%|███▏      | 216M/691M [00:16<00:29, 16.8MB/s]\n",
            " 32%|███▏      | 219M/691M [00:16<00:29, 16.6MB/s]\n",
            " 32%|███▏      | 222M/691M [00:16<00:25, 19.2MB/s]\n",
            " 32%|███▏      | 224M/691M [00:16<00:27, 17.6MB/s]\n",
            " 33%|███▎      | 227M/691M [00:16<00:29, 16.3MB/s]\n",
            " 33%|███▎      | 229M/691M [00:17<00:28, 17.0MB/s]\n",
            " 34%|███▎      | 232M/691M [00:17<00:26, 18.3MB/s]\n",
            " 34%|███▍      | 234M/691M [00:17<00:41, 11.6MB/s]\n",
            " 34%|███▍      | 236M/691M [00:17<00:39, 12.2MB/s]\n",
            " 35%|███▍      | 239M/691M [00:17<00:31, 15.2MB/s]\n",
            " 35%|███▍      | 241M/691M [00:17<00:32, 14.6MB/s]\n",
            " 35%|███▌      | 243M/691M [00:18<00:32, 14.6MB/s]\n",
            " 36%|███▌      | 246M/691M [00:18<00:26, 17.7MB/s]\n",
            " 36%|███▌      | 248M/691M [00:18<00:28, 16.4MB/s]\n",
            " 36%|███▋      | 251M/691M [00:18<00:28, 16.2MB/s]\n",
            " 37%|███▋      | 253M/691M [00:18<00:31, 14.4MB/s]\n",
            " 37%|███▋      | 256M/691M [00:18<00:30, 15.0MB/s]\n",
            " 37%|███▋      | 259M/691M [00:19<00:29, 15.4MB/s]\n",
            " 38%|███▊      | 261M/691M [00:19<00:31, 14.2MB/s]\n",
            " 38%|███▊      | 264M/691M [00:19<00:30, 14.8MB/s]\n",
            " 39%|███▊      | 267M/691M [00:19<00:27, 15.9MB/s]\n",
            " 39%|███▉      | 269M/691M [00:19<00:30, 14.5MB/s]\n",
            " 39%|███▉      | 272M/691M [00:20<00:25, 16.9MB/s]\n",
            " 40%|███▉      | 275M/691M [00:20<00:24, 17.5MB/s]\n",
            " 40%|████      | 277M/691M [00:20<00:25, 17.0MB/s]\n",
            " 40%|████      | 279M/691M [00:20<00:26, 16.5MB/s]\n",
            " 41%|████      | 282M/691M [00:20<00:30, 14.2MB/s]\n",
            " 41%|████      | 285M/691M [00:20<00:25, 16.7MB/s]\n",
            " 42%|████▏     | 288M/691M [00:20<00:22, 18.7MB/s]\n",
            " 42%|████▏     | 290M/691M [00:21<00:23, 17.5MB/s]\n",
            " 42%|████▏     | 292M/691M [00:21<00:31, 13.4MB/s]\n",
            " 43%|████▎     | 295M/691M [00:21<00:25, 16.6MB/s]\n",
            " 43%|████▎     | 297M/691M [00:21<00:25, 16.3MB/s]\n",
            " 43%|████▎     | 300M/691M [00:21<00:26, 15.4MB/s]\n",
            " 44%|████▎     | 302M/691M [00:22<00:30, 13.4MB/s]\n",
            " 44%|████▍     | 305M/691M [00:22<00:28, 14.4MB/s]\n",
            " 45%|████▍     | 308M/691M [00:22<00:26, 15.4MB/s]\n",
            " 45%|████▌     | 311M/691M [00:22<00:24, 16.1MB/s]\n",
            " 45%|████▌     | 313M/691M [00:22<00:24, 16.4MB/s]\n",
            " 46%|████▌     | 316M/691M [00:22<00:23, 17.0MB/s]\n",
            " 46%|████▌     | 318M/691M [00:23<00:22, 17.3MB/s]\n",
            " 46%|████▋     | 320M/691M [00:23<00:21, 17.7MB/s]\n",
            " 47%|████▋     | 324M/691M [00:23<00:21, 17.9MB/s]\n",
            " 47%|████▋     | 327M/691M [00:23<00:21, 17.4MB/s]\n",
            " 48%|████▊     | 330M/691M [00:23<00:18, 20.1MB/s]\n",
            " 48%|████▊     | 333M/691M [00:23<00:24, 15.3MB/s]\n",
            " 49%|████▉     | 337M/691M [00:24<00:22, 16.8MB/s]\n",
            " 49%|████▉     | 340M/691M [00:24<00:21, 16.8MB/s]\n",
            " 50%|████▉     | 343M/691M [00:24<00:19, 19.1MB/s]\n",
            " 50%|█████     | 346M/691M [00:24<00:19, 18.2MB/s]\n",
            " 50%|█████     | 348M/691M [00:24<00:21, 17.1MB/s]\n",
            " 51%|█████     | 351M/691M [00:25<00:21, 16.7MB/s]\n",
            " 51%|█████▏    | 355M/691M [00:25<00:21, 16.1MB/s]\n",
            " 52%|█████▏    | 357M/691M [00:25<00:22, 15.8MB/s]\n",
            " 52%|█████▏    | 360M/691M [00:25<00:21, 15.8MB/s]\n",
            " 53%|█████▎    | 363M/691M [00:25<00:18, 18.3MB/s]\n",
            " 53%|█████▎    | 365M/691M [00:25<00:19, 17.3MB/s]\n",
            " 53%|█████▎    | 368M/691M [00:26<00:20, 16.8MB/s]\n",
            " 54%|█████▎    | 371M/691M [00:26<00:20, 16.5MB/s]\n",
            " 54%|█████▍    | 373M/691M [00:26<00:22, 14.6MB/s]\n",
            " 54%|█████▍    | 375M/691M [00:26<00:21, 15.3MB/s]\n",
            " 55%|█████▍    | 377M/691M [00:26<00:22, 14.5MB/s]\n",
            " 55%|█████▍    | 380M/691M [00:26<00:20, 15.9MB/s]\n",
            " 55%|█████▌    | 382M/691M [00:27<00:19, 16.3MB/s]\n",
            " 56%|█████▌    | 384M/691M [00:27<00:19, 16.9MB/s]\n",
            " 56%|█████▌    | 386M/691M [00:27<00:19, 16.8MB/s]\n",
            " 56%|█████▌    | 388M/691M [00:27<00:19, 16.6MB/s]\n",
            " 56%|█████▋    | 390M/691M [00:27<00:18, 16.6MB/s]\n",
            " 57%|█████▋    | 392M/691M [00:27<00:18, 16.5MB/s]\n",
            " 57%|█████▋    | 394M/691M [00:27<00:19, 16.4MB/s]\n",
            " 57%|█████▋    | 396M/691M [00:27<00:17, 17.2MB/s]\n",
            " 58%|█████▊    | 400M/691M [00:28<00:15, 19.9MB/s]\n",
            " 58%|█████▊    | 402M/691M [00:28<00:15, 19.2MB/s]\n",
            " 58%|█████▊    | 404M/691M [00:28<00:15, 19.4MB/s]\n",
            " 59%|█████▉    | 406M/691M [00:28<00:15, 18.7MB/s]\n",
            " 59%|█████▉    | 408M/691M [00:28<00:15, 19.1MB/s]\n",
            " 59%|█████▉    | 410M/691M [00:28<00:19, 15.0MB/s]\n",
            " 60%|█████▉    | 412M/691M [00:28<00:22, 13.3MB/s]\n",
            " 60%|██████    | 415M/691M [00:29<00:20, 14.5MB/s]\n",
            " 60%|██████    | 418M/691M [00:29<00:18, 15.7MB/s]\n",
            " 61%|██████    | 421M/691M [00:29<00:17, 16.5MB/s]\n",
            " 61%|██████▏   | 424M/691M [00:29<00:14, 18.8MB/s]\n",
            " 62%|██████▏   | 426M/691M [00:29<00:17, 16.1MB/s]\n",
            " 62%|██████▏   | 429M/691M [00:29<00:16, 16.8MB/s]\n",
            " 62%|██████▏   | 431M/691M [00:30<00:20, 13.2MB/s]\n",
            " 63%|██████▎   | 434M/691M [00:30<00:26, 10.3MB/s]\n",
            " 63%|██████▎   | 436M/691M [00:30<00:25, 10.5MB/s]\n",
            " 64%|██████▎   | 440M/691M [00:31<00:21, 12.3MB/s]\n",
            " 64%|██████▍   | 443M/691M [00:31<00:18, 13.8MB/s]\n",
            " 64%|██████▍   | 445M/691M [00:31<00:17, 14.6MB/s]\n",
            " 65%|██████▍   | 447M/691M [00:31<00:17, 15.0MB/s]\n",
            " 65%|██████▌   | 450M/691M [00:31<00:14, 17.0MB/s]\n",
            " 65%|██████▌   | 452M/691M [00:31<00:15, 16.4MB/s]\n",
            " 66%|██████▌   | 455M/691M [00:31<00:14, 16.6MB/s]\n",
            " 66%|██████▋   | 458M/691M [00:32<00:13, 17.6MB/s]\n",
            " 67%|██████▋   | 460M/691M [00:32<00:14, 17.2MB/s]\n",
            " 67%|██████▋   | 462M/691M [00:32<00:14, 16.9MB/s]\n",
            " 67%|██████▋   | 464M/691M [00:32<00:16, 14.5MB/s]\n",
            " 68%|██████▊   | 467M/691M [00:32<00:14, 16.6MB/s]\n",
            " 68%|██████▊   | 469M/691M [00:32<00:13, 17.2MB/s]\n",
            " 68%|██████▊   | 472M/691M [00:32<00:12, 18.6MB/s]\n",
            " 69%|██████▊   | 474M/691M [00:33<00:12, 17.6MB/s]\n",
            " 69%|██████▉   | 477M/691M [00:33<00:12, 17.9MB/s]\n",
            " 69%|██████▉   | 479M/691M [00:33<00:12, 18.1MB/s]\n",
            " 70%|██████▉   | 481M/691M [00:33<00:12, 17.3MB/s]\n",
            " 70%|███████   | 484M/691M [00:33<00:12, 17.7MB/s]\n",
            " 70%|███████   | 487M/691M [00:33<00:11, 18.8MB/s]\n",
            " 71%|███████   | 489M/691M [00:34<00:13, 15.3MB/s]\n",
            " 71%|███████   | 491M/691M [00:34<00:15, 13.4MB/s]\n",
            " 71%|███████▏  | 494M/691M [00:34<00:13, 14.8MB/s]\n",
            " 72%|███████▏  | 496M/691M [00:34<00:13, 15.5MB/s]\n",
            " 72%|███████▏  | 499M/691M [00:34<00:11, 17.5MB/s]\n",
            " 73%|███████▎  | 501M/691M [00:34<00:11, 16.9MB/s]\n",
            " 73%|███████▎  | 504M/691M [00:35<00:10, 18.5MB/s]\n",
            " 73%|███████▎  | 506M/691M [00:35<00:11, 17.6MB/s]\n",
            " 74%|███████▎  | 508M/691M [00:35<00:16, 11.7MB/s]\n",
            " 74%|███████▍  | 511M/691M [00:35<00:13, 14.4MB/s]\n",
            " 74%|███████▍  | 513M/691M [00:35<00:13, 14.3MB/s]\n",
            " 75%|███████▍  | 515M/691M [00:35<00:13, 13.7MB/s]\n",
            " 75%|███████▍  | 517M/691M [00:36<00:14, 12.3MB/s]\n",
            " 75%|███████▌  | 520M/691M [00:36<00:12, 14.2MB/s]\n",
            " 76%|███████▌  | 522M/691M [00:36<00:12, 14.5MB/s]\n",
            " 76%|███████▌  | 524M/691M [00:36<00:11, 15.2MB/s]\n",
            " 76%|███████▌  | 526M/691M [00:36<00:10, 16.2MB/s]\n",
            " 76%|███████▋  | 528M/691M [00:36<00:10, 16.5MB/s]\n",
            " 77%|███████▋  | 531M/691M [00:36<00:09, 18.3MB/s]\n",
            " 77%|███████▋  | 533M/691M [00:37<00:11, 14.4MB/s]\n",
            " 77%|███████▋  | 535M/691M [00:37<00:10, 15.6MB/s]\n",
            " 78%|███████▊  | 537M/691M [00:37<00:10, 15.8MB/s]\n",
            " 78%|███████▊  | 539M/691M [00:37<00:11, 14.4MB/s]\n",
            " 78%|███████▊  | 541M/691M [00:37<00:10, 14.5MB/s]\n",
            " 79%|███████▊  | 543M/691M [00:37<00:09, 15.8MB/s]\n",
            " 79%|███████▉  | 545M/691M [00:37<00:09, 16.4MB/s]\n",
            " 79%|███████▉  | 547M/691M [00:38<00:08, 16.9MB/s]\n",
            " 79%|███████▉  | 549M/691M [00:38<00:10, 14.6MB/s]\n",
            " 80%|███████▉  | 551M/691M [00:38<00:12, 12.2MB/s]\n",
            " 80%|████████  | 553M/691M [00:38<00:13, 10.5MB/s]\n",
            " 80%|████████  | 555M/691M [00:38<00:11, 12.0MB/s]\n",
            " 81%|████████  | 557M/691M [00:39<00:11, 11.9MB/s]\n",
            " 81%|████████  | 559M/691M [00:39<00:10, 13.4MB/s]\n",
            " 81%|████████▏ | 562M/691M [00:39<00:08, 16.5MB/s]\n",
            " 82%|████████▏ | 565M/691M [00:39<00:07, 17.9MB/s]\n",
            " 82%|████████▏ | 567M/691M [00:39<00:07, 17.4MB/s]\n",
            " 82%|████████▏ | 569M/691M [00:39<00:07, 17.9MB/s]\n",
            " 83%|████████▎ | 571M/691M [00:39<00:07, 17.8MB/s]\n",
            " 83%|████████▎ | 573M/691M [00:39<00:07, 17.2MB/s]\n",
            " 83%|████████▎ | 575M/691M [00:40<00:07, 17.2MB/s]\n",
            " 84%|████████▎ | 577M/691M [00:40<00:09, 12.4MB/s]\n",
            " 84%|████████▍ | 580M/691M [00:40<00:08, 13.5MB/s]\n",
            " 84%|████████▍ | 582M/691M [00:40<00:08, 14.0MB/s]\n",
            " 85%|████████▍ | 585M/691M [00:40<00:07, 15.8MB/s]\n",
            " 85%|████████▍ | 587M/691M [00:40<00:07, 14.7MB/s]\n",
            " 85%|████████▌ | 590M/691M [00:41<00:05, 17.8MB/s]\n",
            " 86%|████████▌ | 592M/691M [00:41<00:06, 16.3MB/s]\n",
            " 86%|████████▌ | 594M/691M [00:41<00:06, 16.5MB/s]\n",
            " 86%|████████▋ | 596M/691M [00:41<00:06, 15.6MB/s]\n",
            " 87%|████████▋ | 598M/691M [00:41<00:06, 15.6MB/s]\n",
            " 87%|████████▋ | 600M/691M [00:41<00:06, 13.7MB/s]\n",
            " 87%|████████▋ | 602M/691M [00:42<00:06, 13.8MB/s]\n",
            " 87%|████████▋ | 604M/691M [00:42<00:06, 13.5MB/s]\n",
            " 88%|████████▊ | 606M/691M [00:42<00:06, 12.9MB/s]\n",
            " 88%|████████▊ | 608M/691M [00:42<00:07, 11.8MB/s]\n",
            " 88%|████████▊ | 610M/691M [00:42<00:07, 11.1MB/s]\n",
            " 89%|████████▊ | 612M/691M [00:42<00:06, 12.2MB/s]\n",
            " 89%|████████▉ | 614M/691M [00:43<00:06, 13.0MB/s]\n",
            " 89%|████████▉ | 617M/691M [00:43<00:05, 14.9MB/s]\n",
            " 90%|████████▉ | 619M/691M [00:43<00:05, 14.5MB/s]\n",
            " 90%|████████▉ | 621M/691M [00:43<00:05, 14.4MB/s]\n",
            " 90%|█████████ | 625M/691M [00:43<00:03, 19.9MB/s]\n",
            " 91%|█████████ | 628M/691M [00:43<00:03, 19.2MB/s]\n",
            " 91%|█████████ | 630M/691M [00:43<00:03, 19.4MB/s]\n",
            " 91%|█████████▏| 632M/691M [00:44<00:03, 17.7MB/s]\n",
            " 92%|█████████▏| 634M/691M [00:44<00:03, 17.1MB/s]\n",
            " 92%|█████████▏| 636M/691M [00:44<00:04, 13.1MB/s]\n",
            " 92%|█████████▏| 639M/691M [00:44<00:03, 16.4MB/s]\n",
            " 93%|█████████▎| 641M/691M [00:44<00:03, 16.5MB/s]\n",
            " 93%|█████████▎| 644M/691M [00:44<00:02, 17.9MB/s]\n",
            " 93%|█████████▎| 646M/691M [00:44<00:02, 17.5MB/s]\n",
            " 94%|█████████▍| 648M/691M [00:45<00:02, 17.2MB/s]\n",
            " 94%|█████████▍| 650M/691M [00:45<00:02, 17.9MB/s]\n",
            " 94%|█████████▍| 652M/691M [00:45<00:02, 17.2MB/s]\n",
            " 95%|█████████▍| 655M/691M [00:45<00:01, 19.1MB/s]\n",
            " 95%|█████████▌| 657M/691M [00:45<00:01, 19.1MB/s]\n",
            " 95%|█████████▌| 659M/691M [00:45<00:01, 18.7MB/s]\n",
            " 96%|█████████▌| 661M/691M [00:45<00:01, 18.2MB/s]\n",
            " 96%|█████████▌| 663M/691M [00:45<00:01, 18.3MB/s]\n",
            " 96%|█████████▌| 665M/691M [00:46<00:01, 18.4MB/s]\n",
            " 97%|█████████▋| 667M/691M [00:46<00:01, 18.3MB/s]\n",
            " 97%|█████████▋| 669M/691M [00:46<00:01, 15.9MB/s]\n",
            " 97%|█████████▋| 672M/691M [00:46<00:01, 16.0MB/s]\n",
            " 98%|█████████▊| 675M/691M [00:46<00:00, 18.5MB/s]\n",
            " 98%|█████████▊| 677M/691M [00:46<00:00, 16.2MB/s]\n",
            " 98%|█████████▊| 679M/691M [00:46<00:00, 15.2MB/s]\n",
            " 99%|█████████▊| 682M/691M [00:47<00:00, 18.3MB/s]\n",
            " 99%|█████████▉| 684M/691M [00:47<00:00, 16.2MB/s]\n",
            " 99%|█████████▉| 686M/691M [00:47<00:00, 12.8MB/s]\n",
            "100%|█████████▉| 688M/691M [00:47<00:00, 13.1MB/s]\n",
            "100%|█████████▉| 690M/691M [00:47<00:00, 14.5MB/s]\n",
            "100%|██████████| 691M/691M [00:47<00:00, 15.1MB/s]\n"
          ]
        }
      ],
      "source": [
        "# Downloading dataset and coming out of directory\n",
        "!kaggle datasets download catherinehorng/dogbreedidfromcomp\n",
        "%cd .."
      ]
    },
    {
      "cell_type": "markdown",
      "metadata": {
        "id": "VzkFPAFdFVPv"
      },
      "source": [
        "After searching the data next step would be downloading the data into collab notebook using references found in search option."
      ]
    },
    {
      "cell_type": "code",
      "execution_count": 8,
      "metadata": {
        "id": "_G_S6-F1Qs-U"
      },
      "outputs": [],
      "source": [
        "# Unzipping downloaded file and removing unusable file"
      ]
    },
    {
      "cell_type": "markdown",
      "metadata": {
        "id": "K83AVkzUGFQP"
      },
      "source": [
        "Importing required libraries.\n"
      ]
    },
    {
      "cell_type": "code",
      "execution_count": 2,
      "metadata": {
        "id": "Ko_oKFfpvj8A"
      },
      "outputs": [],
      "source": [
        "# Important library imports\n",
        "import numpy as np \n",
        "import pandas as pd \n",
        "import matplotlib.pyplot as plt\n",
        "\n",
        "from tqdm import tqdm\n",
        "from keras.preprocessing import image\n",
        "from sklearn.preprocessing import label_binarize\n",
        "from sklearn.model_selection import train_test_split\n",
        "from keras.models import Sequential\n",
        "from keras.layers import Dense, Dropout, Flatten, Conv2D, MaxPool2D\n",
        "from keras.optimizers import Adam"
      ]
    },
    {
      "cell_type": "markdown",
      "metadata": {
        "id": "CPJvJVrUF3bK"
      },
      "source": [
        "We will unzip the data which is downloaded and remove the irrelevant files. "
      ]
    },
    {
      "cell_type": "code",
      "execution_count": 3,
      "metadata": {
        "id": "vrZIWCO4wEFn"
      },
      "outputs": [
        {
          "name": "stdout",
          "output_type": "stream",
          "text": [
            "(10222, 2)\n"
          ]
        },
        {
          "name": "stderr",
          "output_type": "stream",
          "text": [
            "<>:2: SyntaxWarning: invalid escape sequence '\\l'\n",
            "<>:2: SyntaxWarning: invalid escape sequence '\\l'\n",
            "C:\\Users\\Ahriya Evelyn\\AppData\\Local\\Temp\\ipykernel_15576\\415472539.py:2: SyntaxWarning: invalid escape sequence '\\l'\n",
            "  labels_all = pd.read_csv(\"dog_dataset\\labels.csv\")\n"
          ]
        },
        {
          "data": {
            "text/html": [
              "<div>\n",
              "<style scoped>\n",
              "    .dataframe tbody tr th:only-of-type {\n",
              "        vertical-align: middle;\n",
              "    }\n",
              "\n",
              "    .dataframe tbody tr th {\n",
              "        vertical-align: top;\n",
              "    }\n",
              "\n",
              "    .dataframe thead th {\n",
              "        text-align: right;\n",
              "    }\n",
              "</style>\n",
              "<table border=\"1\" class=\"dataframe\">\n",
              "  <thead>\n",
              "    <tr style=\"text-align: right;\">\n",
              "      <th></th>\n",
              "      <th>id</th>\n",
              "      <th>breed</th>\n",
              "    </tr>\n",
              "  </thead>\n",
              "  <tbody>\n",
              "    <tr>\n",
              "      <th>0</th>\n",
              "      <td>000bec180eb18c7604dcecc8fe0dba07</td>\n",
              "      <td>boston_bull</td>\n",
              "    </tr>\n",
              "    <tr>\n",
              "      <th>1</th>\n",
              "      <td>001513dfcb2ffafc82cccf4d8bbaba97</td>\n",
              "      <td>dingo</td>\n",
              "    </tr>\n",
              "    <tr>\n",
              "      <th>2</th>\n",
              "      <td>001cdf01b096e06d78e9e5112d419397</td>\n",
              "      <td>pekinese</td>\n",
              "    </tr>\n",
              "    <tr>\n",
              "      <th>3</th>\n",
              "      <td>00214f311d5d2247d5dfe4fe24b2303d</td>\n",
              "      <td>bluetick</td>\n",
              "    </tr>\n",
              "    <tr>\n",
              "      <th>4</th>\n",
              "      <td>0021f9ceb3235effd7fcde7f7538ed62</td>\n",
              "      <td>golden_retriever</td>\n",
              "    </tr>\n",
              "  </tbody>\n",
              "</table>\n",
              "</div>"
            ],
            "text/plain": [
              "                                 id             breed\n",
              "0  000bec180eb18c7604dcecc8fe0dba07       boston_bull\n",
              "1  001513dfcb2ffafc82cccf4d8bbaba97             dingo\n",
              "2  001cdf01b096e06d78e9e5112d419397          pekinese\n",
              "3  00214f311d5d2247d5dfe4fe24b2303d          bluetick\n",
              "4  0021f9ceb3235effd7fcde7f7538ed62  golden_retriever"
            ]
          },
          "execution_count": 3,
          "metadata": {},
          "output_type": "execute_result"
        }
      ],
      "source": [
        "# Read the labels.csv file and checking shape and records\n",
        "labels_all = pd.read_csv(\"dog_dataset\\labels.csv\")\n",
        "print(labels_all.shape)\n",
        "labels_all.head()\n"
      ]
    },
    {
      "cell_type": "markdown",
      "metadata": {
        "id": "K5myFXEQGRPD"
      },
      "source": [
        "Loading the labels data into dataframe and viewing it. Here we analysed that labels contains 10222 rows and 2 columns.  "
      ]
    },
    {
      "cell_type": "code",
      "execution_count": 4,
      "metadata": {
        "id": "xgoPji7ywRjX"
      },
      "outputs": [
        {
          "data": {
            "text/plain": [
              "breed\n",
              "scottish_deerhound      126\n",
              "maltese_dog             117\n",
              "afghan_hound            116\n",
              "entlebucher             115\n",
              "bernese_mountain_dog    114\n",
              "Name: count, dtype: int64"
            ]
          },
          "execution_count": 4,
          "metadata": {},
          "output_type": "execute_result"
        }
      ],
      "source": [
        "# Visualize the number of each breeds\n",
        "breeds_all = labels_all[\"breed\"]\n",
        "breed_counts = breeds_all.value_counts()\n",
        "breed_counts.head()"
      ]
    },
    {
      "cell_type": "markdown",
      "metadata": {
        "id": "iM5bMsyPGyKe"
      },
      "source": [
        "Here we are finding out the count per class i.e. total data in each class using value_counts() function."
      ]
    },
    {
      "cell_type": "code",
      "execution_count": 5,
      "metadata": {
        "id": "2J7x-UVxwVs6"
      },
      "outputs": [
        {
          "data": {
            "text/html": [
              "<div>\n",
              "<style scoped>\n",
              "    .dataframe tbody tr th:only-of-type {\n",
              "        vertical-align: middle;\n",
              "    }\n",
              "\n",
              "    .dataframe tbody tr th {\n",
              "        vertical-align: top;\n",
              "    }\n",
              "\n",
              "    .dataframe thead th {\n",
              "        text-align: right;\n",
              "    }\n",
              "</style>\n",
              "<table border=\"1\" class=\"dataframe\">\n",
              "  <thead>\n",
              "    <tr style=\"text-align: right;\">\n",
              "      <th></th>\n",
              "      <th>index</th>\n",
              "      <th>id</th>\n",
              "      <th>breed</th>\n",
              "    </tr>\n",
              "  </thead>\n",
              "  <tbody>\n",
              "    <tr>\n",
              "      <th>0</th>\n",
              "      <td>9</td>\n",
              "      <td>0042188c895a2f14ef64a918ed9c7b64</td>\n",
              "      <td>scottish_deerhound</td>\n",
              "    </tr>\n",
              "    <tr>\n",
              "      <th>1</th>\n",
              "      <td>12</td>\n",
              "      <td>00693b8bc2470375cc744a6391d397ec</td>\n",
              "      <td>maltese_dog</td>\n",
              "    </tr>\n",
              "    <tr>\n",
              "      <th>2</th>\n",
              "      <td>79</td>\n",
              "      <td>01e787576c003930f96c966f9c3e1d44</td>\n",
              "      <td>scottish_deerhound</td>\n",
              "    </tr>\n",
              "    <tr>\n",
              "      <th>3</th>\n",
              "      <td>90</td>\n",
              "      <td>022b34fd8734b39995a9f38a4f3e7b6b</td>\n",
              "      <td>maltese_dog</td>\n",
              "    </tr>\n",
              "    <tr>\n",
              "      <th>4</th>\n",
              "      <td>118</td>\n",
              "      <td>02d54f0dfb40038765e838459ae8c956</td>\n",
              "      <td>bernese_mountain_dog</td>\n",
              "    </tr>\n",
              "  </tbody>\n",
              "</table>\n",
              "</div>"
            ],
            "text/plain": [
              "   index                                id                 breed\n",
              "0      9  0042188c895a2f14ef64a918ed9c7b64    scottish_deerhound\n",
              "1     12  00693b8bc2470375cc744a6391d397ec           maltese_dog\n",
              "2     79  01e787576c003930f96c966f9c3e1d44    scottish_deerhound\n",
              "3     90  022b34fd8734b39995a9f38a4f3e7b6b           maltese_dog\n",
              "4    118  02d54f0dfb40038765e838459ae8c956  bernese_mountain_dog"
            ]
          },
          "execution_count": 5,
          "metadata": {},
          "output_type": "execute_result"
        }
      ],
      "source": [
        "# Selecting first 3 breeds (Limitation due to computation power)\n",
        "CLASS_NAMES = ['scottish_deerhound','maltese_dog','bernese_mountain_dog']\n",
        "labels = labels_all[(labels_all['breed'].isin(CLASS_NAMES))]\n",
        "labels = labels.reset_index()\n",
        "labels.head()"
      ]
    },
    {
      "cell_type": "markdown",
      "metadata": {
        "id": "Ft9w6t5LHOrO"
      },
      "source": [
        "We will work on only 3 breeds due to limited computational power. You can consider more classes as per your system computational power."
      ]
    },
    {
      "cell_type": "code",
      "execution_count": 6,
      "metadata": {},
      "outputs": [
        {
          "data": {
            "text/plain": [
              "(357, 224, 224, 3)"
            ]
          },
          "execution_count": 6,
          "metadata": {},
          "output_type": "execute_result"
        }
      ],
      "source": [
        "# Creating numpy matrix with zeros\n",
        "X_data = np.zeros((len(labels), 224, 224, 3), dtype='float32')\n",
        "X_data.shape"
      ]
    },
    {
      "cell_type": "code",
      "execution_count": 7,
      "metadata": {},
      "outputs": [
        {
          "data": {
            "text/plain": [
              "array([[1, 0, 0],\n",
              "       [0, 1, 0],\n",
              "       [1, 0, 0],\n",
              "       ...,\n",
              "       [0, 0, 1],\n",
              "       [0, 1, 0],\n",
              "       [0, 1, 0]])"
            ]
          },
          "execution_count": 7,
          "metadata": {},
          "output_type": "execute_result"
        }
      ],
      "source": [
        "# One hot encoding\n",
        "Y_data = label_binarize(labels['breed'], classes = CLASS_NAMES)\n",
        "Y_data"
      ]
    },
    {
      "cell_type": "code",
      "execution_count": 8,
      "metadata": {
        "id": "vR0_yYY9w_y8"
      },
      "outputs": [
        {
          "name": "stderr",
          "output_type": "stream",
          "text": [
            "100%|██████████| 357/357 [00:01<00:00, 250.76it/s]\n"
          ]
        },
        {
          "name": "stdout",
          "output_type": "stream",
          "text": [
            "\n",
            "Train Images shape:  (357, 224, 224, 3)  size: 53,738,496\n",
            "One-hot encoded output shape:  (357, 3)  size: 1,071\n"
          ]
        }
      ],
      "source": [
        "# Reading and converting image to numpy array and normalizing dataset\n",
        "for i in tqdm(range(len(labels))):\n",
        "    img = image.load_img('dog_dataset/train/%s.jpg' % labels['id'][i], target_size=(224, 224))\n",
        "    img = image.img_to_array(img)\n",
        "    x = np.expand_dims(img.copy(), axis=0)\n",
        "    X_data[i] = x / 255.0\n",
        "    \n",
        "# Printing train image and one hot encode shape & size\n",
        "print('\\nTrain Images shape: ',X_data.shape,' size: {:,}'.format(X_data.size))\n",
        "print('One-hot encoded output shape: ',Y_data.shape,' size: {:,}'.format(Y_data.size))"
      ]
    },
    {
      "cell_type": "code",
      "execution_count": 9,
      "metadata": {},
      "outputs": [
        {
          "data": {
            "text/plain": [
              "array([[[0.01960784, 0.02352941, 0.        ],\n",
              "        [0.02745098, 0.03137255, 0.        ],\n",
              "        [0.03921569, 0.04313726, 0.01176471],\n",
              "        ...,\n",
              "        [0.3372549 , 0.39607844, 0.0627451 ],\n",
              "        [0.35686275, 0.39607844, 0.16078432],\n",
              "        [0.34509805, 0.38431373, 0.14901961]],\n",
              "\n",
              "       [[0.03137255, 0.03529412, 0.00392157],\n",
              "        [0.03137255, 0.03529412, 0.00392157],\n",
              "        [0.03137255, 0.03529412, 0.00392157],\n",
              "        ...,\n",
              "        [0.35686275, 0.41568628, 0.09803922],\n",
              "        [0.35686275, 0.39607844, 0.15686275],\n",
              "        [0.34901962, 0.3882353 , 0.14901961]],\n",
              "\n",
              "       [[0.03137255, 0.03529412, 0.00392157],\n",
              "        [0.02745098, 0.03137255, 0.        ],\n",
              "        [0.02352941, 0.02745098, 0.        ],\n",
              "        ...,\n",
              "        [0.3254902 , 0.38039216, 0.07843138],\n",
              "        [0.3529412 , 0.3882353 , 0.13333334],\n",
              "        [0.34901962, 0.38431373, 0.12941177]],\n",
              "\n",
              "       ...,\n",
              "\n",
              "       [[0.20392157, 0.25882354, 0.11764706],\n",
              "        [0.1254902 , 0.18039216, 0.04313726],\n",
              "        [0.18039216, 0.24313726, 0.10196079],\n",
              "        ...,\n",
              "        [0.28627452, 0.35686275, 0.12156863],\n",
              "        [0.35686275, 0.41960785, 0.22745098],\n",
              "        [0.36078432, 0.42352942, 0.23137255]],\n",
              "\n",
              "       [[0.23529412, 0.28235295, 0.14117648],\n",
              "        [0.16470589, 0.21176471, 0.07058824],\n",
              "        [0.15686275, 0.21176471, 0.07450981],\n",
              "        ...,\n",
              "        [0.29411766, 0.3647059 , 0.12941177],\n",
              "        [0.36078432, 0.42352942, 0.23137255],\n",
              "        [0.3647059 , 0.42745098, 0.23529412]],\n",
              "\n",
              "       [[0.22352941, 0.25490198, 0.10196079],\n",
              "        [0.34509805, 0.38431373, 0.23921569],\n",
              "        [0.16862746, 0.21568628, 0.06666667],\n",
              "        ...,\n",
              "        [0.31764707, 0.3882353 , 0.15294118],\n",
              "        [0.37254903, 0.43529412, 0.24313726],\n",
              "        [0.3764706 , 0.4392157 , 0.24705882]]], dtype=float32)"
            ]
          },
          "execution_count": 9,
          "metadata": {},
          "output_type": "execute_result"
        }
      ],
      "source": [
        "X_data[0]"
      ]
    },
    {
      "cell_type": "code",
      "execution_count": 10,
      "metadata": {},
      "outputs": [
        {
          "data": {
            "text/plain": [
              "-1"
            ]
          },
          "execution_count": 10,
          "metadata": {},
          "output_type": "execute_result"
        },
        {
          "ename": "",
          "evalue": "",
          "output_type": "error",
          "traceback": [
            "\u001b[1;31mThe Kernel crashed while executing code in the current cell or a previous cell. \n",
            "\u001b[1;31mPlease review the code in the cell(s) to identify a possible cause of the failure. \n",
            "\u001b[1;31mClick <a href='https://aka.ms/vscodeJupyterKernelCrash'>here</a> for more info. \n",
            "\u001b[1;31mView Jupyter <a href='command:jupyter.viewOutput'>log</a> for further details."
          ]
        }
      ],
      "source": [
        "import cv2\n",
        "\n",
        "cv2.imshow(\"Image\",X_data[0])\n",
        "# Wait for 'q' key to close the window\n",
        "\n",
        "while True:\n",
        "    key = cv2.waitKey(1) & 0xFF\n",
        "    if key == ord('q'):  # Press 'q' to exit\n",
        "        break"
      ]
    },
    {
      "cell_type": "markdown",
      "metadata": {
        "id": "md38GlW9H0hM"
      },
      "source": [
        "As we are working with the classification dataset first we need to one hot encode the target value i.e. the classes. After that we will read images and convert them into numpy array and finally normalizing the array."
      ]
    },
    {
      "cell_type": "code",
      "execution_count": null,
      "metadata": {
        "id": "3Xvd5r4MxcLJ"
      },
      "outputs": [],
      "source": [
        "# Building the Model\n",
        "model = Sequential()\n",
        "\n",
        "model.add(Conv2D(filters = 64, kernel_size = (5,5), activation ='relu', input_shape = (224,224,3)))\n",
        "model.add(MaxPool2D(pool_size=(2,2)))\n",
        "\n",
        "model.add(Conv2D(filters = 32, kernel_size = (3,3), activation ='relu', kernel_regularizer = 'l2'))\n",
        "model.add(MaxPool2D(pool_size=(2,2)))\n",
        "\n",
        "model.add(Conv2D(filters = 16, kernel_size = (7,7), activation ='relu', kernel_regularizer = 'l2'))\n",
        "model.add(MaxPool2D(pool_size=(2,2)))\n",
        "\n",
        "model.add(Conv2D(filters = 8, kernel_size = (5,5), activation ='relu', kernel_regularizer = 'l2'))\n",
        "model.add(MaxPool2D(pool_size=(2,2)))\n",
        "\n",
        "model.add(Flatten())\n",
        "model.add(Dense(128, activation = \"relu\", kernel_regularizer = 'l2'))\n",
        "model.add(Dense(64, activation = \"relu\", kernel_regularizer = 'l2'))\n",
        "model.add(Dense(len(CLASS_NAMES), activation = \"softmax\"))\n",
        "\n",
        "model.compile(loss = 'categorical_crossentropy', optimizer = Adam(0.0001),metrics=['accuracy'])\n",
        "\n",
        "model.summary()"
      ]
    },
    {
      "cell_type": "markdown",
      "metadata": {
        "id": "f3KpqhclJEi-"
      },
      "source": [
        "Next we will create a network architecture for the model. We have used different types of layers according to their features namely Conv_2d (It is used to create a convolutional kernel that is convolved with the input layer to produce the output tensor), max_pooling2d (It is a downsampling technique which takes out the maximum value over the window defined by poolsize), flatten (It flattens the input and creates a 1D output), Dense (Dense layer produce the output as the dot product of input and kernel).\n"
      ]
    },
    {
      "cell_type": "markdown",
      "metadata": {
        "id": "uFqLiTKqMXWM"
      },
      "source": [
        "After defining the network architecture we found out the total parameters as 162,619."
      ]
    },
    {
      "cell_type": "code",
      "execution_count": null,
      "metadata": {
        "id": "z2OwiYRrxxJ_"
      },
      "outputs": [],
      "source": [
        "# Splitting the data set into training and testing data sets\n",
        "X_train_and_val, X_test, Y_train_and_val, Y_test = train_test_split(X_data, Y_data, test_size = 0.1)\n",
        "# Splitting the training data set into training and validation data sets\n",
        "X_train, X_val, Y_train, Y_val = train_test_split(X_train_and_val, Y_train_and_val, test_size = 0.2)"
      ]
    },
    {
      "cell_type": "markdown",
      "metadata": {
        "id": "pwYpekxrJZRr"
      },
      "source": [
        "After defining the network architecture we will start with splitting the test and train data then dividing train data in train and validation data. "
      ]
    },
    {
      "cell_type": "code",
      "execution_count": null,
      "metadata": {
        "id": "Kzq2hLsGyFTr"
      },
      "outputs": [],
      "source": [
        "# Training the model\n",
        "epochs = 100\n",
        "batch_size = 128\n",
        "\n",
        "history = model.fit(X_train, Y_train, batch_size = batch_size, epochs = epochs, \n",
        "                    validation_data = (X_val, Y_val))"
      ]
    },
    {
      "cell_type": "markdown",
      "metadata": {
        "id": "YSFnRyfKJv4a"
      },
      "source": [
        "Now we will train our model on 100 epochs and a batch size of 128. You can try using more number of epochs to increase accuracy. During each epochs we can see how the model is performing by viewing the training and validation accuracy."
      ]
    },
    {
      "cell_type": "code",
      "execution_count": null,
      "metadata": {
        "id": "BvK8_JKKyLJJ"
      },
      "outputs": [],
      "source": [
        "# Plot the training history\n",
        "plt.figure(figsize=(12, 5))\n",
        "plt.plot(history.history['accuracy'], color='r')\n",
        "plt.plot(history.history['val_accuracy'], color='b')\n",
        "plt.title('Model Accuracy')\n",
        "plt.ylabel('Accuracy')\n",
        "plt.xlabel('Epochs')\n",
        "plt.legend(['train', 'val'])\n",
        "\n",
        "plt.show()"
      ]
    },
    {
      "cell_type": "markdown",
      "metadata": {
        "id": "CkfvA9XyNVtU"
      },
      "source": [
        "Here we analyse how the model is learning with each epoch in terms of accuracy."
      ]
    },
    {
      "cell_type": "code",
      "execution_count": null,
      "metadata": {
        "id": "xXpyaiyeykly"
      },
      "outputs": [],
      "source": [
        "Y_pred = model.predict(X_test)\n",
        "score = model.evaluate(X_test, Y_test)\n",
        "print('Accuracy over the test set: \\n ', round((score[1]*100), 2), '%')"
      ]
    },
    {
      "cell_type": "markdown",
      "metadata": {
        "id": "rkbtSrubNj3C"
      },
      "source": [
        "We will use predict function to make predictions using this model also we are finding out the accuracy on the test set."
      ]
    },
    {
      "cell_type": "code",
      "execution_count": null,
      "metadata": {
        "id": "nY-jB9t5ylME"
      },
      "outputs": [],
      "source": [
        "# Plotting image to compare\n",
        "plt.imshow(X_test[1,:,:,:])\n",
        "plt.show()\n",
        "\n",
        "# Finding max value from predition list and comaparing original value vs predicted\n",
        "print(\"Originally : \",labels['breed'][np.argmax(Y_test[1])])\n",
        "print(\"Predicted : \",labels['breed'][np.argmax(Y_pred[1])])"
      ]
    },
    {
      "cell_type": "markdown",
      "metadata": {
        "id": "bZgi683JOYcT"
      },
      "source": [
        "Here you can see image with its original and predicted label."
      ]
    },
    {
      "cell_type": "markdown",
      "metadata": {
        "id": "MaAbK0hZPFGF"
      },
      "source": [
        "## Conclusion:"
      ]
    },
    {
      "cell_type": "markdown",
      "metadata": {
        "id": "UItQLYGyPNAO"
      },
      "source": [
        "We started with downloading the dataset creating the model and finding out the predictions using the model. We can optimize different hyper parameters in order to tune this model for a higher accuracy. This model can be used to predict different breeds of dogs which can be further used by different NGO's working on saving animals and for educational purposes also."
      ]
    },
    {
      "cell_type": "code",
      "execution_count": null,
      "metadata": {
        "id": "Y9hIc_hzQDoB"
      },
      "outputs": [],
      "source": []
    }
  ],
  "metadata": {
    "colab": {
      "collapsed_sections": [],
      "name": "Dog Breed Prediction.ipynb",
      "provenance": []
    },
    "kernelspec": {
      "display_name": "base",
      "language": "python",
      "name": "python3"
    },
    "language_info": {
      "codemirror_mode": {
        "name": "ipython",
        "version": 3
      },
      "file_extension": ".py",
      "mimetype": "text/x-python",
      "name": "python",
      "nbconvert_exporter": "python",
      "pygments_lexer": "ipython3",
      "version": "3.12.7"
    }
  },
  "nbformat": 4,
  "nbformat_minor": 0
}
